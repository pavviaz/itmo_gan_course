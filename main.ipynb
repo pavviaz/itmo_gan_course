{
 "cells": [
  {
   "cell_type": "code",
   "execution_count": 1,
   "metadata": {},
   "outputs": [],
   "source": [
    "import os\n",
    "\n",
    "import numpy as np\n",
    "import torchvision\n",
    "import torch\n",
    "from torch import nn\n",
    "from torch import optim\n",
    "from tqdm import tqdm\n",
    "from torchvision.transforms import ToTensor\n",
    "from torch.utils.data import Dataset\n",
    "from PIL import Image\n",
    "\n",
    "from torch.utils.tensorboard import SummaryWriter\n",
    "import torchvision.utils as vutils\n",
    "import matplotlib.pyplot as plt\n",
    "plt.rcParams['figure.dpi'] = 200\n"
   ]
  },
  {
   "cell_type": "code",
   "execution_count": 2,
   "metadata": {},
   "outputs": [],
   "source": [
    "BATCH_SIZE = 256\n",
    "DEVICE = torch.device(\"cuda\")\n",
    "GLR = 2e-4\n",
    "DLR = 2e-5\n",
    "EPOCHES = 50\n",
    "NDF = 128  # Рамер карты признаков для генератора\n",
    "NC = 3  # Количество каналов цвета\n",
    "NZ = 100  # Размер латентного вектора (размерность латентного пространства)\n",
    "\n",
    "CELEBA_DIR = \"img_align_celeba\"\n",
    "WEIGHTS_DIR = \"weights\"\n",
    "IMGS_DIR = \"res\"\n",
    "\n",
    "os.makedirs(IMGS_DIR, exist_ok=True)"
   ]
  },
  {
   "cell_type": "markdown",
   "metadata": {},
   "source": [
    "### CSPup block "
   ]
  },
  {
   "cell_type": "code",
   "execution_count": 3,
   "metadata": {},
   "outputs": [
    {
     "data": {
      "text/plain": [
       "torch.Size([1, 128, 128, 32])"
      ]
     },
     "execution_count": 3,
     "metadata": {},
     "output_type": "execute_result"
    }
   ],
   "source": [
    "class Block(nn.Module):\n",
    "    def __init__(self, ch, kernel_size=3, stride=1, padding=1):\n",
    "        super(Block, self).__init__()\n",
    "        self.conv = nn.Conv2d(ch, ch, kernel_size, stride, padding=padding, bias=False)\n",
    "        self.bn = nn.BatchNorm2d(ch)\n",
    "        self.act = nn.Tanh()\n",
    "\n",
    "    def forward(self, x):\n",
    "        y = self.conv(x)\n",
    "        y = self.bn(y)\n",
    "        return self.act(y)\n",
    "\n",
    "\n",
    "class CSPup(nn.Module):\n",
    "    # Standard bottleneck\n",
    "    def __init__(\n",
    "        self, c_in, kernel=3, stride=1, pad=1, e=0.5\n",
    "    ):  # ch_in, ch_out, shortcut, groups, expansion\n",
    "        super(CSPup, self).__init__()\n",
    "        self.e = e\n",
    "        c_out = int(c_in * self.e)\n",
    "\n",
    "        self.upsamp = nn.ConvTranspose2d(\n",
    "            c_out, c_out, kernel_size=4, stride=2, padding=1, bias=False\n",
    "        )\n",
    "        self.conv1 = Block(c_out, kernel_size=kernel, stride=1, padding=pad)\n",
    "        self.upsamp1 = nn.ConvTranspose2d(\n",
    "            c_in, c_out, kernel_size=4, stride=2, padding=1, bias=False\n",
    "        )\n",
    "        self.conv2 = Block(c_out, kernel_size=kernel, stride=1)\n",
    "        self.conv3 = nn.Conv2d(\n",
    "            c_out, c_out, kernel_size=kernel, stride=stride, padding=pad\n",
    "        )\n",
    "\n",
    "    def forward(self, x):\n",
    "        e = int(x.shape[-1] * self.e)\n",
    "        y1 = self.upsamp(x[..., :e].permute(0, 3, 1, 2))\n",
    "\n",
    "        y2 = self.conv1(x[..., e:].permute(0, 3, 1, 2))\n",
    "        y2 = self.upsamp(y2)\n",
    "        y2 = self.conv2(y2)\n",
    "        y2 = self.conv3(y2)\n",
    "\n",
    "        return (y1 + y2).permute(0, 2, 3, 1)\n",
    "\n",
    "\n",
    "t = torch.randn(1, 64, 64, 64)  # channels first False\n",
    "csp = CSPup(64)\n",
    "csp(t).shape"
   ]
  },
  {
   "cell_type": "markdown",
   "metadata": {},
   "source": [
    "### cspup_e"
   ]
  },
  {
   "cell_type": "code",
   "execution_count": 4,
   "metadata": {},
   "outputs": [
    {
     "data": {
      "text/plain": [
       "torch.Size([1, 32, 128, 128])"
      ]
     },
     "execution_count": 4,
     "metadata": {},
     "output_type": "execute_result"
    }
   ],
   "source": [
    "class Block(nn.Module):\n",
    "    def __init__(self, ch, kernel_size=3, stride=1, padding=1):\n",
    "        super(Block, self).__init__()\n",
    "        self.conv = nn.Conv2d(ch, ch, kernel_size, stride, padding=padding, bias=False)\n",
    "        self.bn = nn.BatchNorm2d(ch)\n",
    "        self.act = nn.Tanh()\n",
    "\n",
    "    def forward(self, x):\n",
    "        y = self.conv(x)\n",
    "        y = self.bn(y)\n",
    "        return self.act(y)\n",
    "\n",
    "\n",
    "class CSPup_E(nn.Module):\n",
    "    # Standard bottleneck\n",
    "    def __init__(\n",
    "        self, c_in, kernel=3, stride=1, pad=1, e=0.5\n",
    "    ):  # ch_in, ch_out, shortcut, groups, expansion\n",
    "        super(CSPup_E, self).__init__()\n",
    "        self.e = e\n",
    "        c_out = int(c_in * self.e)\n",
    "\n",
    "        self.upsamp = nn.ConvTranspose2d(\n",
    "            c_out, c_out, kernel_size=4, stride=2, padding=1, bias=False\n",
    "        )\n",
    "        self.conv1 = Block(c_out, kernel_size=kernel, stride=1, padding=pad)\n",
    "        self.upsamp1 = nn.ConvTranspose2d(\n",
    "            c_in, c_out, kernel_size=4, stride=2, padding=1, bias=False\n",
    "        )\n",
    "        self.conv2 = Block(c_out, kernel_size=kernel, stride=1)\n",
    "        self.conv3 = nn.Conv2d(\n",
    "            c_out, c_out, kernel_size=kernel, stride=stride, padding=pad\n",
    "        )\n",
    "\n",
    "    def forward(self, x):\n",
    "        _, ch, _, _ = x.shape\n",
    "        e = int(ch * self.e)\n",
    "        \n",
    "        y1 = self.upsamp(x[:, :e, ...])\n",
    "\n",
    "        y2 = self.conv1(x[:, e:, ...])\n",
    "        y2 = self.upsamp(y2)\n",
    "        y2 = self.conv2(y2)\n",
    "        y2 = self.conv3(y2)\n",
    "\n",
    "        return (y1 + y2)\n",
    "\n",
    "\n",
    "t = torch.randn(1, 64, 64, 64)  # channels first False\n",
    "csp = CSPup_E(64)\n",
    "csp(t).shape"
   ]
  },
  {
   "cell_type": "markdown",
   "metadata": {},
   "source": [
    "### Generator & Discriminator"
   ]
  },
  {
   "cell_type": "code",
   "execution_count": 5,
   "metadata": {},
   "outputs": [
    {
     "data": {
      "text/plain": [
       "torch.Size([2, 3, 128, 128])"
      ]
     },
     "execution_count": 5,
     "metadata": {},
     "output_type": "execute_result"
    }
   ],
   "source": [
    "class GAN_Generator(nn.Module):\n",
    "    def __init__(self):\n",
    "        super(GAN_Generator, self).__init__()\n",
    "\n",
    "        self.device = torch.device(\"cuda:0\")\n",
    "        self.n_blocks = 5\n",
    "        self.input_shape = 1024\n",
    "\n",
    "        self.ups = nn.ConvTranspose2d(NZ, self.input_shape, 4, 1, 0)\n",
    "        self.csp_stack = nn.Sequential(\n",
    "            *[CSPup(int(self.input_shape / 2**i)) for i in range(self.n_blocks)]\n",
    "        )\n",
    "        in_channels = int(self.input_shape / 2 ** (self.n_blocks))\n",
    "        out_channels = 3\n",
    "        self.deconv = nn.ConvTranspose2d(\n",
    "            in_channels, out_channels, kernel_size=3, padding=1, stride=1\n",
    "        )\n",
    "        self.activ = nn.Tanh()\n",
    "\n",
    "    def forward(self, inputs):\n",
    "        inputs = self.ups(inputs).permute(0, 2, 3, 1)\n",
    "        inputs = self.csp_stack(inputs)\n",
    "        inputs = inputs.permute(0, 3, 2, 1)\n",
    "        inputs = self.activ(self.deconv(inputs))\n",
    "\n",
    "        return inputs\n",
    "\n",
    "\n",
    "t = torch.randn(2, 100, 1, 1)\n",
    "csp = GAN_Generator()\n",
    "y = csp(t)\n",
    "y.shape"
   ]
  },
  {
   "cell_type": "markdown",
   "metadata": {},
   "source": [
    "### gan_gen_e"
   ]
  },
  {
   "cell_type": "code",
   "execution_count": 6,
   "metadata": {},
   "outputs": [
    {
     "data": {
      "text/plain": [
       "torch.Size([2, 3, 128, 128])"
      ]
     },
     "execution_count": 6,
     "metadata": {},
     "output_type": "execute_result"
    }
   ],
   "source": [
    "class GAN_Generator_E(nn.Module):\n",
    "    def __init__(self):\n",
    "        super(GAN_Generator_E, self).__init__()\n",
    "\n",
    "        self.device = torch.device(\"cuda:0\")\n",
    "        self.n_blocks = 5\n",
    "        self.input_shape = 1024\n",
    "\n",
    "        self.ups = nn.ConvTranspose2d(NZ, self.input_shape, 4, 1, 0)\n",
    "        self.csp_stack = nn.Sequential(\n",
    "            *[CSPup_E(int(self.input_shape / 2**i)) for i in range(self.n_blocks)]\n",
    "        )\n",
    "        in_channels = int(self.input_shape / 2 ** (self.n_blocks))\n",
    "        out_channels = 3\n",
    "        self.deconv = nn.ConvTranspose2d(\n",
    "            in_channels, out_channels, kernel_size=3, padding=1, stride=1\n",
    "        )\n",
    "        self.activ = nn.Tanh()\n",
    "\n",
    "    def forward(self, inputs):\n",
    "        inputs = self.ups(inputs)\n",
    "        inputs = self.csp_stack(inputs)\n",
    "        inputs = self.activ(self.deconv(inputs))\n",
    "\n",
    "        return inputs\n",
    "\n",
    "\n",
    "t = torch.randn(2, 100, 1, 1)\n",
    "csp = GAN_Generator_E()\n",
    "y = csp(t)\n",
    "y.shape"
   ]
  },
  {
   "cell_type": "code",
   "execution_count": 7,
   "metadata": {},
   "outputs": [
    {
     "data": {
      "text/plain": [
       "torch.Size([1, 3, 64, 64])"
      ]
     },
     "execution_count": 7,
     "metadata": {},
     "output_type": "execute_result"
    }
   ],
   "source": [
    "class DC_Generator(nn.Module):\n",
    "    def __init__(self):\n",
    "        super(DC_Generator, self).__init__()\n",
    "        self.main = nn.Sequential(\n",
    "            # вход Z, идет в convolution\n",
    "            nn.ConvTranspose2d( NZ, NDF * 8, 4, 1, 0, bias=False),\n",
    "            nn.BatchNorm2d(NDF * 8),\n",
    "            nn.ReLU(True),\n",
    "            # state size. (ngf*8) x 4 x 4\n",
    "            nn.ConvTranspose2d(NDF * 8, NDF * 4, 4, 2, 1, bias=False),\n",
    "            nn.BatchNorm2d(NDF * 4),\n",
    "            nn.ReLU(True),\n",
    "            # state size. (ngf*4) x 8 x 8\n",
    "            nn.ConvTranspose2d( NDF * 4, NDF * 2, 4, 2, 1, bias=False),\n",
    "            nn.BatchNorm2d(NDF * 2),\n",
    "            nn.ReLU(True),\n",
    "            # state size. (ngf*2) x 16 x 16\n",
    "            nn.ConvTranspose2d( NDF * 2, NDF, 4, 2, 1, bias=False),\n",
    "            nn.BatchNorm2d(NDF),\n",
    "            nn.ReLU(True),\n",
    "            # state size. (ngf) x 32 x 32\n",
    "            nn.ConvTranspose2d( NDF, NC, 4, 2, 1, bias=False),\n",
    "            nn.Tanh()\n",
    "            # state size. (nc) x 64 x 64\n",
    "        )\n",
    "\n",
    "    def forward(self, input):\n",
    "        return self.main(input)\n",
    "    \n",
    "m = DC_Generator()\n",
    "m(torch.rand(1, 100, 1, 1)).shape"
   ]
  },
  {
   "cell_type": "code",
   "execution_count": 8,
   "metadata": {},
   "outputs": [
    {
     "data": {
      "text/plain": [
       "torch.Size([2, 1, 1, 1])"
      ]
     },
     "execution_count": 8,
     "metadata": {},
     "output_type": "execute_result"
    }
   ],
   "source": [
    "class GAN_Discriminator(nn.Module):\n",
    "    def __init__(self):\n",
    "        super(GAN_Discriminator, self).__init__()\n",
    "        self.main = nn.Sequential(\n",
    "            nn.Conv2d(NC, NDF, 4, 2, 1, bias=False),\n",
    "            nn.LeakyReLU(0.2, inplace=True),\n",
    "            nn.Conv2d(NDF, NDF * 2, 4, 2, 1, bias=False),\n",
    "            nn.LeakyReLU(0.2, inplace=True),\n",
    "            nn.Conv2d(NDF * 2, NDF * 4, 4, 2, 1, bias=False),\n",
    "            nn.BatchNorm2d(NDF * 4),\n",
    "            nn.LeakyReLU(0.2, inplace=True),\n",
    "            nn.Conv2d(NDF * 4, NDF * 8, 4, 2, 1, bias=False),\n",
    "            nn.BatchNorm2d(NDF * 8),\n",
    "            nn.LeakyReLU(0.2, inplace=True),\n",
    "            # state size. (ndf*4) x 8 x 8\n",
    "            nn.Conv2d(NDF * 8, NDF * 16, 4, 2, 1, bias=False),\n",
    "            nn.BatchNorm2d(NDF * 16),\n",
    "            nn.LeakyReLU(0.2, inplace=True),\n",
    "            # state size. (ndf*8) x 4 x 4\n",
    "            nn.Conv2d(NDF * 16, 1, 4, 1, 0, bias=False),\n",
    "            # nn.Conv2d(ndf * 8, 1, 4, 1, 0, bias=False),\n",
    "            nn.Sigmoid(),\n",
    "        )\n",
    "\n",
    "    def forward(self, input):\n",
    "        return self.main(input)\n",
    "\n",
    "\n",
    "t = torch.randn(2, 3, 128, 128)\n",
    "model = GAN_Discriminator()\n",
    "model(t).shape"
   ]
  },
  {
   "cell_type": "markdown",
   "metadata": {},
   "source": [
    "### Create dataloader"
   ]
  },
  {
   "cell_type": "code",
   "execution_count": 9,
   "metadata": {},
   "outputs": [],
   "source": [
    "class celebaLoader(Dataset):\n",
    "    def __init__(self, dataset_dir, transform=None):\n",
    "        self.dir = dataset_dir\n",
    "        self.transform = transform\n",
    "        self.imgs = self.__load()\n",
    "\n",
    "    def __load(self):\n",
    "        if not os.path.exists(self.dir):\n",
    "            raise OSError(\"No such dataset\")\n",
    "        \n",
    "        return [os.path.join(self.dir, el) for el in os.listdir(self.dir)]\n",
    "    \n",
    "    def __len__(self):\n",
    "        return len(self.imgs)\n",
    "    \n",
    "    def __getitem__(self, idx):\n",
    "        img = torchvision.io.read_image(self.imgs[idx]) - 127.5\n",
    "        if self.transform:\n",
    "            img = self.transform(img)\n",
    "\n",
    "        return img / 127.5\n",
    "\n",
    "def collate_fn(batch):\n",
    "    images = torch.Tensor()\n",
    "    for im in batch:\n",
    "        width, height = im.size\n",
    "        new_size = min(width, height)\n",
    "\n",
    "        left = (width - new_size) / 2\n",
    "        top = (height - new_size) / 2\n",
    "        right = (width + new_size) / 2\n",
    "        bottom = (height + new_size) / 2\n",
    "\n",
    "        # Crop the center of the image\n",
    "        im = im.crop((left, top, right, bottom))\n",
    "        im = im.resize((128, 128), Image.Resampling.LANCZOS)\n",
    "        images = torch.cat([images, ToTensor()(im).unsqueeze(0)])\n",
    "\n",
    "    return images\n",
    "\n",
    "\n",
    "dataset = celebaLoader(CELEBA_DIR, torchvision.transforms.Resize((NDF, NDF)))\n",
    "dataloader = torch.utils.data.DataLoader(\n",
    "    dataset, batch_size=BATCH_SIZE, shuffle=True\n",
    ")\n",
    "\n",
    "# Preload data\n",
    "# for _ in enumerate(tqdm(dataloader)):\n",
    "#     continue"
   ]
  },
  {
   "cell_type": "markdown",
   "metadata": {},
   "source": [
    "### Init models"
   ]
  },
  {
   "cell_type": "code",
   "execution_count": 10,
   "metadata": {},
   "outputs": [
    {
     "data": {
      "text/plain": [
       "GAN_Discriminator(\n",
       "  (main): Sequential(\n",
       "    (0): Conv2d(3, 128, kernel_size=(4, 4), stride=(2, 2), padding=(1, 1), bias=False)\n",
       "    (1): LeakyReLU(negative_slope=0.2, inplace=True)\n",
       "    (2): Conv2d(128, 256, kernel_size=(4, 4), stride=(2, 2), padding=(1, 1), bias=False)\n",
       "    (3): LeakyReLU(negative_slope=0.2, inplace=True)\n",
       "    (4): Conv2d(256, 512, kernel_size=(4, 4), stride=(2, 2), padding=(1, 1), bias=False)\n",
       "    (5): BatchNorm2d(512, eps=1e-05, momentum=0.1, affine=True, track_running_stats=True)\n",
       "    (6): LeakyReLU(negative_slope=0.2, inplace=True)\n",
       "    (7): Conv2d(512, 1024, kernel_size=(4, 4), stride=(2, 2), padding=(1, 1), bias=False)\n",
       "    (8): BatchNorm2d(1024, eps=1e-05, momentum=0.1, affine=True, track_running_stats=True)\n",
       "    (9): LeakyReLU(negative_slope=0.2, inplace=True)\n",
       "    (10): Conv2d(1024, 2048, kernel_size=(4, 4), stride=(2, 2), padding=(1, 1), bias=False)\n",
       "    (11): BatchNorm2d(2048, eps=1e-05, momentum=0.1, affine=True, track_running_stats=True)\n",
       "    (12): LeakyReLU(negative_slope=0.2, inplace=True)\n",
       "    (13): Conv2d(2048, 1, kernel_size=(4, 4), stride=(1, 1), bias=False)\n",
       "    (14): Sigmoid()\n",
       "  )\n",
       ")"
      ]
     },
     "execution_count": 10,
     "metadata": {},
     "output_type": "execute_result"
    }
   ],
   "source": [
    "def weights_init(m):\n",
    "    classname = m.__class__.__name__\n",
    "    if classname.find(\"Conv\") != -1:\n",
    "        nn.init.normal_(m.weight.data, 0.0, 0.02)\n",
    "    elif classname.find(\"BatchNorm\") != -1:\n",
    "        nn.init.normal_(m.weight.data, 1.0, 0.02)\n",
    "        nn.init.constant_(m.bias.data, 0)\n",
    "\n",
    "\n",
    "# G_model = DC_Generator().to(device)\n",
    "G_model = GAN_Generator_E().to(DEVICE)\n",
    "G_model.apply(weights_init)\n",
    "\n",
    "D_model = GAN_Discriminator().to(DEVICE)\n",
    "D_model.apply(weights_init)"
   ]
  },
  {
   "cell_type": "code",
   "execution_count": 11,
   "metadata": {},
   "outputs": [],
   "source": [
    "# лосс\n",
    "criterion = nn.BCELoss()\n",
    "\n",
    "fixed_noise = torch.randn(\n",
    "    64, NZ, 1, 1, device=DEVICE\n",
    ")  # Создаем батч с рандомным шумом для генерации\n",
    "\n",
    "real_label = 1.0\n",
    "fake_label = 0.0\n",
    "\n",
    "# оптимизаторы\n",
    "beta1 = 0.5\n",
    "D_optim = optim.Adam(D_model.parameters(), lr=DLR, betas=(beta1, 0.999))\n",
    "G_optim = optim.Adam(G_model.parameters(), lr=GLR, betas=(beta1, 0.999))"
   ]
  },
  {
   "cell_type": "code",
   "execution_count": 12,
   "metadata": {},
   "outputs": [],
   "source": [
    "writer = SummaryWriter()"
   ]
  },
  {
   "cell_type": "markdown",
   "metadata": {},
   "source": [
    "### Train loop"
   ]
  },
  {
   "cell_type": "code",
   "execution_count": 13,
   "metadata": {},
   "outputs": [
    {
     "name": "stdout",
     "output_type": "stream",
     "text": [
      "Starting Training Loop...\n"
     ]
    },
    {
     "name": "stderr",
     "output_type": "stream",
     "text": [
      "  0%|          | 0/792 [00:00<?, ?it/s]Clipping input data to the valid range for imshow with RGB data ([0..1] for floats or [0..255] for integers).\n",
      "  0%|          | 1/792 [00:01<23:32,  1.79s/it]"
     ]
    },
    {
     "name": "stdout",
     "output_type": "stream",
     "text": [
      "[0/50][0/792]\tLoss_D: 2.1587\tLoss_G: 2.4303\tD(x): 0.4664\tD(G(z)): 0.4323 / 0.2091\n"
     ]
    },
    {
     "name": "stderr",
     "output_type": "stream",
     "text": [
      "  6%|▋         | 50/792 [00:56<13:30,  1.09s/it]Clipping input data to the valid range for imshow with RGB data ([0..1] for floats or [0..255] for integers).\n",
      "  6%|▋         | 51/792 [00:57<13:44,  1.11s/it]"
     ]
    },
    {
     "name": "stdout",
     "output_type": "stream",
     "text": [
      "[0/50][50/792]\tLoss_D: 31.7362\tLoss_G: 15.5480\tD(x): 0.5431\tD(G(z)): 0.9991 / 0.0000\n"
     ]
    },
    {
     "name": "stderr",
     "output_type": "stream",
     "text": [
      " 13%|█▎        | 100/792 [01:52<12:14,  1.06s/it]Clipping input data to the valid range for imshow with RGB data ([0..1] for floats or [0..255] for integers).\n",
      " 13%|█▎        | 101/792 [01:53<12:50,  1.12s/it]"
     ]
    },
    {
     "name": "stdout",
     "output_type": "stream",
     "text": [
      "[0/50][100/792]\tLoss_D: 11.6900\tLoss_G: 3.6565\tD(x): 0.0373\tD(G(z)): 0.7230 / 0.1049\n"
     ]
    },
    {
     "name": "stderr",
     "output_type": "stream",
     "text": [
      " 19%|█▉        | 150/792 [02:48<11:36,  1.09s/it]Clipping input data to the valid range for imshow with RGB data ([0..1] for floats or [0..255] for integers).\n",
      " 19%|█▉        | 151/792 [02:49<11:57,  1.12s/it]"
     ]
    },
    {
     "name": "stdout",
     "output_type": "stream",
     "text": [
      "[0/50][150/792]\tLoss_D: 6.8836\tLoss_G: 2.5393\tD(x): 0.1942\tD(G(z)): 0.8555 / 0.1216\n"
     ]
    },
    {
     "name": "stderr",
     "output_type": "stream",
     "text": [
      " 25%|██▌       | 200/792 [03:50<12:51,  1.30s/it]Clipping input data to the valid range for imshow with RGB data ([0..1] for floats or [0..255] for integers).\n",
      " 25%|██▌       | 201/792 [03:51<12:22,  1.26s/it]"
     ]
    },
    {
     "name": "stdout",
     "output_type": "stream",
     "text": [
      "[0/50][200/792]\tLoss_D: 5.8427\tLoss_G: 2.1490\tD(x): 0.1408\tD(G(z)): 0.7952 / 0.1529\n"
     ]
    },
    {
     "name": "stderr",
     "output_type": "stream",
     "text": [
      " 32%|███▏      | 250/792 [04:55<13:16,  1.47s/it]Clipping input data to the valid range for imshow with RGB data ([0..1] for floats or [0..255] for integers).\n"
     ]
    },
    {
     "name": "stdout",
     "output_type": "stream",
     "text": [
      "[0/50][250/792]\tLoss_D: 4.9208\tLoss_G: 1.7675\tD(x): 0.1204\tD(G(z)): 0.3507 / 0.2969\n"
     ]
    },
    {
     "name": "stderr",
     "output_type": "stream",
     "text": [
      " 38%|███▊      | 300/792 [05:53<09:47,  1.19s/it]Clipping input data to the valid range for imshow with RGB data ([0..1] for floats or [0..255] for integers).\n",
      " 38%|███▊      | 301/792 [05:54<09:54,  1.21s/it]"
     ]
    },
    {
     "name": "stdout",
     "output_type": "stream",
     "text": [
      "[0/50][300/792]\tLoss_D: 5.6444\tLoss_G: 1.7733\tD(x): 0.2469\tD(G(z)): 0.8794 / 0.2647\n"
     ]
    },
    {
     "name": "stderr",
     "output_type": "stream",
     "text": [
      " 44%|████▍     | 350/792 [06:53<08:06,  1.10s/it]Clipping input data to the valid range for imshow with RGB data ([0..1] for floats or [0..255] for integers).\n"
     ]
    },
    {
     "name": "stdout",
     "output_type": "stream",
     "text": [
      "[0/50][350/792]\tLoss_D: 2.8004\tLoss_G: 0.9672\tD(x): 0.4541\tD(G(z)): 0.7679 / 0.4303\n"
     ]
    },
    {
     "name": "stderr",
     "output_type": "stream",
     "text": [
      " 51%|█████     | 400/792 [07:48<08:23,  1.28s/it]Clipping input data to the valid range for imshow with RGB data ([0..1] for floats or [0..255] for integers).\n"
     ]
    },
    {
     "name": "stdout",
     "output_type": "stream",
     "text": [
      "[0/50][400/792]\tLoss_D: 1.0067\tLoss_G: 1.3092\tD(x): 0.6425\tD(G(z)): 0.2514 / 0.3739\n"
     ]
    },
    {
     "name": "stderr",
     "output_type": "stream",
     "text": [
      " 57%|█████▋    | 450/792 [08:47<06:44,  1.18s/it]Clipping input data to the valid range for imshow with RGB data ([0..1] for floats or [0..255] for integers).\n"
     ]
    },
    {
     "name": "stdout",
     "output_type": "stream",
     "text": [
      "[0/50][450/792]\tLoss_D: 2.3163\tLoss_G: 1.3845\tD(x): 0.3908\tD(G(z)): 0.5893 / 0.2875\n"
     ]
    },
    {
     "name": "stderr",
     "output_type": "stream",
     "text": [
      " 63%|██████▎   | 500/792 [09:49<05:53,  1.21s/it]Clipping input data to the valid range for imshow with RGB data ([0..1] for floats or [0..255] for integers).\n"
     ]
    },
    {
     "name": "stdout",
     "output_type": "stream",
     "text": [
      "[0/50][500/792]\tLoss_D: 2.0287\tLoss_G: 1.8865\tD(x): 0.3360\tD(G(z)): 0.3258 / 0.1977\n"
     ]
    },
    {
     "name": "stderr",
     "output_type": "stream",
     "text": [
      " 69%|██████▉   | 550/792 [10:51<04:54,  1.22s/it]Clipping input data to the valid range for imshow with RGB data ([0..1] for floats or [0..255] for integers).\n"
     ]
    },
    {
     "name": "stdout",
     "output_type": "stream",
     "text": [
      "[0/50][550/792]\tLoss_D: 2.2161\tLoss_G: 1.3215\tD(x): 0.4407\tD(G(z)): 0.5890 / 0.3372\n"
     ]
    },
    {
     "name": "stderr",
     "output_type": "stream",
     "text": [
      " 76%|███████▌  | 600/792 [11:52<03:56,  1.23s/it]Clipping input data to the valid range for imshow with RGB data ([0..1] for floats or [0..255] for integers).\n"
     ]
    },
    {
     "name": "stdout",
     "output_type": "stream",
     "text": [
      "[0/50][600/792]\tLoss_D: 1.5559\tLoss_G: 1.1940\tD(x): 0.5138\tD(G(z)): 0.4804 / 0.3325\n"
     ]
    },
    {
     "name": "stderr",
     "output_type": "stream",
     "text": [
      " 82%|████████▏ | 650/792 [12:54<02:33,  1.08s/it]Clipping input data to the valid range for imshow with RGB data ([0..1] for floats or [0..255] for integers).\n"
     ]
    },
    {
     "name": "stdout",
     "output_type": "stream",
     "text": [
      "[0/50][650/792]\tLoss_D: 2.4148\tLoss_G: 1.1105\tD(x): 0.4595\tD(G(z)): 0.6837 / 0.3880\n"
     ]
    },
    {
     "name": "stderr",
     "output_type": "stream",
     "text": [
      " 88%|████████▊ | 700/792 [13:55<01:45,  1.15s/it]Clipping input data to the valid range for imshow with RGB data ([0..1] for floats or [0..255] for integers).\n"
     ]
    },
    {
     "name": "stdout",
     "output_type": "stream",
     "text": [
      "[0/50][700/792]\tLoss_D: 1.8705\tLoss_G: 1.1689\tD(x): 0.4598\tD(G(z)): 0.5218 / 0.3604\n"
     ]
    },
    {
     "name": "stderr",
     "output_type": "stream",
     "text": [
      " 95%|█████████▍| 750/792 [14:51<00:45,  1.08s/it]Clipping input data to the valid range for imshow with RGB data ([0..1] for floats or [0..255] for integers).\n"
     ]
    },
    {
     "name": "stdout",
     "output_type": "stream",
     "text": [
      "[0/50][750/792]\tLoss_D: 1.8525\tLoss_G: 1.0691\tD(x): 0.4572\tD(G(z)): 0.5571 / 0.3810\n"
     ]
    },
    {
     "name": "stderr",
     "output_type": "stream",
     "text": [
      "100%|██████████| 792/792 [15:34<00:00,  1.18s/it]\n"
     ]
    },
    {
     "name": "stdout",
     "output_type": "stream",
     "text": [
      "epoch: 0  G_loss: 2.809873207641596  D_loss: 4.211856087951949\n"
     ]
    },
    {
     "name": "stderr",
     "output_type": "stream",
     "text": [
      "  0%|          | 0/792 [00:00<?, ?it/s]Clipping input data to the valid range for imshow with RGB data ([0..1] for floats or [0..255] for integers).\n"
     ]
    },
    {
     "name": "stdout",
     "output_type": "stream",
     "text": [
      "[1/50][0/792]\tLoss_D: 1.7189\tLoss_G: 0.8448\tD(x): 0.5040\tD(G(z)): 0.5825 / 0.4498\n"
     ]
    },
    {
     "name": "stderr",
     "output_type": "stream",
     "text": [
      "  6%|▋         | 50/792 [01:01<14:27,  1.17s/it]Clipping input data to the valid range for imshow with RGB data ([0..1] for floats or [0..255] for integers).\n"
     ]
    },
    {
     "name": "stdout",
     "output_type": "stream",
     "text": [
      "[1/50][50/792]\tLoss_D: 1.6133\tLoss_G: 1.2018\tD(x): 0.4985\tD(G(z)): 0.5002 / 0.3488\n"
     ]
    },
    {
     "name": "stderr",
     "output_type": "stream",
     "text": [
      " 13%|█▎        | 100/792 [02:06<11:30,  1.00it/s]Clipping input data to the valid range for imshow with RGB data ([0..1] for floats or [0..255] for integers).\n"
     ]
    },
    {
     "name": "stdout",
     "output_type": "stream",
     "text": [
      "[1/50][100/792]\tLoss_D: 1.4901\tLoss_G: 0.9796\tD(x): 0.5246\tD(G(z)): 0.5074 / 0.4003\n"
     ]
    },
    {
     "name": "stderr",
     "output_type": "stream",
     "text": [
      " 19%|█▉        | 150/792 [03:10<13:40,  1.28s/it]Clipping input data to the valid range for imshow with RGB data ([0..1] for floats or [0..255] for integers).\n"
     ]
    },
    {
     "name": "stdout",
     "output_type": "stream",
     "text": [
      "[1/50][150/792]\tLoss_D: 1.9569\tLoss_G: 1.3486\tD(x): 0.4566\tD(G(z)): 0.5974 / 0.3047\n"
     ]
    },
    {
     "name": "stderr",
     "output_type": "stream",
     "text": [
      " 25%|██▌       | 200/792 [04:11<11:59,  1.21s/it]Clipping input data to the valid range for imshow with RGB data ([0..1] for floats or [0..255] for integers).\n"
     ]
    },
    {
     "name": "stdout",
     "output_type": "stream",
     "text": [
      "[1/50][200/792]\tLoss_D: 1.0848\tLoss_G: 1.4429\tD(x): 0.6927\tD(G(z)): 0.4614 / 0.2734\n"
     ]
    },
    {
     "name": "stderr",
     "output_type": "stream",
     "text": [
      " 26%|██▌       | 205/792 [04:17<12:14,  1.25s/it]"
     ]
    }
   ],
   "source": [
    "# Training Loop\n",
    "# Lists to keep track of progress\n",
    "img_list = []\n",
    "G_losses = []\n",
    "D_losses = []\n",
    "iters = 0\n",
    "\n",
    "print(\"Starting Training Loop...\")\n",
    "\n",
    "for epoch in range(EPOCHES):\n",
    "    for i, batch in enumerate(tqdm(dataloader), 0):\n",
    "\n",
    "        ############################\n",
    "        # (1) Учим дискриминатор: максимизируем log(D(x)) + log(1 - D(G(z)))\n",
    "        ###########################\n",
    "        ## Train with all-real batch\n",
    "        D_model.zero_grad()\n",
    "\n",
    "        # Для батча\n",
    "        real_cpu = batch.to(DEVICE)\n",
    "        b_size = real_cpu.size(0)\n",
    "        label = torch.full((b_size,), real_label, dtype=torch.float, device=DEVICE)\n",
    "\n",
    "        output = D_model(real_cpu).view(-1)\n",
    "        errD_real = criterion(output, label)\n",
    "        errD_real.backward()\n",
    "        D_x = output.mean().item()\n",
    "\n",
    "        # Учим на полном фейковом батче\n",
    "        noise = torch.randn(b_size, NZ, 1, 1, device=DEVICE)\n",
    "        fake = G_model(noise)\n",
    "        label.fill_(fake_label)\n",
    "        \n",
    "        output = D_model(fake.detach()).view(-1)\n",
    "        errD_fake = criterion(output, label)\n",
    "        errD_fake.backward()\n",
    "        D_G_z1 = output.mean().item()\n",
    "\n",
    "        errD = errD_real + errD_fake\n",
    "        D_optim.step()\n",
    "\n",
    "        ############################\n",
    "        # (2) Учим генератор: максимизируем log(D(G(z)))\n",
    "        ###########################\n",
    "        G_model.zero_grad()\n",
    "        label.fill_(\n",
    "            real_label\n",
    "        )  # для генератора фейковые метки есть реальные (0 меняем на 1)\n",
    "        output = D_model(fake).view(-1)\n",
    "\n",
    "        # Вычислим лосс G основываясь на выходе D\n",
    "        errG = criterion(output, label)\n",
    "        errG.backward()\n",
    "        D_G_z2 = output.mean().item()\n",
    "        G_optim.step()\n",
    "\n",
    "        # Выводим статистику обучения\n",
    "        errD = errD.cpu().detach().item()\n",
    "        errG = errG.cpu().detach().item()\n",
    "        if i % 50 == 0:\n",
    "            print(\n",
    "                \"[%d/%d][%d/%d]\\tLoss_D: %.4f\\tLoss_G: %.4f\\tD(x): %.4f\\tD(G(z)): %.4f / %.4f\"\n",
    "                % (\n",
    "                    epoch,\n",
    "                    EPOCHES,\n",
    "                    i,\n",
    "                    len(dataloader),\n",
    "                    errD,\n",
    "                    errG,\n",
    "                    D_x,\n",
    "                    D_G_z1,\n",
    "                    D_G_z2,\n",
    "                )\n",
    "            )\n",
    "\n",
    "            img = fake[0].permute(1, 2, 0).cpu().detach().numpy()\n",
    "            plt.imshow(img)\n",
    "            plt.savefig(f\"res/{epoch}_{i}.png\")\n",
    "\n",
    "            writer.add_scalars(\n",
    "                \"loss/train/\", {\"generator_loss\": errG, \"discriminator_loss\": errD}, iters\n",
    "            )\n",
    "            writer.add_scalars(\n",
    "                \"misc/train/\", {\"D(x)\": D_x, \"D(G(z1))\": D_G_z1, \"D(G(z2))\": D_G_z2}, iters\n",
    "            )\n",
    "            # writer.add_scalar(\n",
    "            #     \"loss/train/\", errG, iters\n",
    "            # )\n",
    "            iters += 50\n",
    "        \n",
    "        # Сохраним лоссы\n",
    "        G_losses.append(errG)\n",
    "        D_losses.append(errD)\n",
    "\n",
    "    gm = np.mean(G_losses)\n",
    "\n",
    "    torch.save(G_model.state_dict(), os.path.join(WEIGHTS_DIR, f\"{epoch}_{np.round(gm, 2)}.pt\"))\n",
    "    print(f\"epoch: {epoch}  G_loss: {gm}  D_loss: {np.mean(D_losses)}\")\n",
    "\n",
    "    G_losses.clear()\n",
    "    D_losses.clear()"
   ]
  },
  {
   "cell_type": "code",
   "execution_count": 46,
   "metadata": {},
   "outputs": [
    {
     "name": "stdout",
     "output_type": "stream",
     "text": [
      "\n"
     ]
    }
   ],
   "source": [
    "G_model = GAN_Generator().to(DEVICE)\n",
    "G_model.load_state_dict(torch.load(\"weights_0/4_6.4.pt\"))\n",
    "G_model.eval()\n",
    "print()"
   ]
  },
  {
   "cell_type": "code",
   "execution_count": 61,
   "metadata": {},
   "outputs": [
    {
     "data": {
      "text/plain": [
       "<matplotlib.image.AxesImage at 0x2a6ef9f5c10>"
      ]
     },
     "execution_count": 61,
     "metadata": {},
     "output_type": "execute_result"
    },
    {
     "data": {
      "image/png": "[encoded data removed]",
      "text/plain": [
       "<Figure size 1280x960 with 1 Axes>"
      ]
     },
     "metadata": {},
     "output_type": "display_data"
    }
   ],
   "source": [
    "noise = torch.randn(1, NZ, 1, 1, device=DEVICE)\n",
    "with torch.no_grad():\n",
    "    fake = G_model(noise).detach().cpu()\n",
    "    \n",
    "plt.axis('off')\n",
    "gr = torchvision.utils.make_grid(fake, nrow=15, normalize=True)\n",
    "plt.imshow(gr.permute(1, 2, 0),)"
   ]
  }
 ],
 "metadata": {
  "kernelspec": {
   "display_name": "Python 3",
   "language": "python",
   "name": "python3"
  },
  "language_info": {
   "codemirror_mode": {
    "name": "ipython",
    "version": 3
   },
   "file_extension": ".py",
   "mimetype": "text/x-python",
   "name": "python",
   "nbconvert_exporter": "python",
   "pygments_lexer": "ipython3",
   "version": "3.11.5"
  }
 },
 "nbformat": 4,
 "nbformat_minor": 2
}

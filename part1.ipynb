{
 "cells": [
  {
   "cell_type": "markdown",
   "metadata": {},
   "source": [
    "# Part 1: MLE + Bayes"
   ]
  },
  {
   "cell_type": "code",
   "execution_count": 1,
   "metadata": {},
   "outputs": [],
   "source": [
    "import os\n",
    "from collections import defaultdict\n",
    "\n",
    "import numpy as np\n",
    "from PIL import Image"
   ]
  },
  {
   "cell_type": "markdown",
   "metadata": {},
   "source": [
    "## Working with styles"
   ]
  },
  {
   "cell_type": "markdown",
   "metadata": {},
   "source": [
    "### Assigning different styles and their probs"
   ]
  },
  {
   "cell_type": "code",
   "execution_count": 2,
   "metadata": {},
   "outputs": [],
   "source": [
    "styles = {\n",
    "    \"прическа\": [\n",
    "        \"нет волос\",\n",
    "        \"длинные в пучок\",\n",
    "        \"длинные волнистые\",\n",
    "        \"длинные прямые\",\n",
    "        \"короткая волнистые\",\n",
    "        \"короткая прямые\",\n",
    "        \"короткая курчавые\",\n",
    "    ],\n",
    "    \"цвет волос\": [\n",
    "        \"черный\",\n",
    "        \"блонд\",\n",
    "        \"каштановый\",\n",
    "        \"пастельный розовый\",\n",
    "        \"рыжий\",\n",
    "        \"серебристо серый\",\n",
    "    ],\n",
    "    \"аксесуар\": [\n",
    "        \"нет очков\",\n",
    "        \"круглые очки\",\n",
    "        \"солнцезащитные очки\",\n",
    "    ],\n",
    "    \"одежда\": [\n",
    "        \"худи\",\n",
    "        \"комбинезон\",\n",
    "        \"футболка с круглым вырезом\",\n",
    "        \"футболка с V-вырезом\",\n",
    "    ],\n",
    "    \"цвет одежды\": [\n",
    "        \"черный\",\n",
    "        \"синий\",\n",
    "        \"серый\",\n",
    "        \"зеленый\",\n",
    "        \"оранжевый\",\n",
    "        \"розовый\",\n",
    "        \"красный\",\n",
    "        \"белый\",\n",
    "    ],\n",
    "}\n",
    "\n",
    "styles_count = {\n",
    "    \"прическа\": [7, 0, 1, 23, 1, 11, 7],\n",
    "    \"цвет волос\": [\n",
    "        7,\n",
    "        6,\n",
    "        2,\n",
    "        3,\n",
    "        8,\n",
    "        24,\n",
    "    ],\n",
    "    \"аксесуар\": [\n",
    "        11,\n",
    "        22,\n",
    "        17,\n",
    "    ],\n",
    "    \"одежда\": [\n",
    "        7,\n",
    "        18,\n",
    "        19,\n",
    "        6,\n",
    "    ],\n",
    "    \"цвет одежды\": [4, 5, 6, 8, 6, 8, 7, 6],\n",
    "}"
   ]
  },
  {
   "cell_type": "markdown",
   "metadata": {},
   "source": [
    "### MLE probs function"
   ]
  },
  {
   "cell_type": "code",
   "execution_count": 3,
   "metadata": {},
   "outputs": [],
   "source": [
    "def get_mle_probs(arr):\n",
    "    d = sum(arr) + len(arr)\n",
    "    return [(el + 1) / d for el in arr]"
   ]
  },
  {
   "cell_type": "markdown",
   "metadata": {},
   "source": [
    "### Recursive function to get every combination possible"
   ]
  },
  {
   "cell_type": "code",
   "execution_count": 4,
   "metadata": {},
   "outputs": [],
   "source": [
    "def generate_bayes_dist(\n",
    "    _dict: dict, keys: list, ck: int, cumstr: str, p: float, res: dict\n",
    "):\n",
    "    k = keys[ck]\n",
    "    for v in _dict[k]:\n",
    "        if k != keys[-1]:\n",
    "            generate_bayes_dist(\n",
    "                _dict,\n",
    "                keys,\n",
    "                ck + 1,\n",
    "                v[0] if not ck else f\"{cumstr}, {v[0]}\",\n",
    "                v[1] if not ck else p * v[1],\n",
    "                res,\n",
    "            )\n",
    "        else:\n",
    "            res[f\"{cumstr}, {v[0]}\"] = p * v[1]"
   ]
  },
  {
   "cell_type": "markdown",
   "metadata": {},
   "source": [
    "### Using `np.random.choice` to get random example from result with respective probs"
   ]
  },
  {
   "cell_type": "code",
   "execution_count": 5,
   "metadata": {},
   "outputs": [],
   "source": [
    "def get_random_style(_dict: dict):\n",
    "    ch = np.random.choice(list(_dict.keys()), p=list(_dict.values()))\n",
    "    return ch, _dict[ch]"
   ]
  },
  {
   "cell_type": "code",
   "execution_count": 6,
   "metadata": {},
   "outputs": [],
   "source": [
    "styles_count = {k: get_mle_probs(v) for k, v in styles_count.items()}\n",
    "\n",
    "styles_merged = {k: list(zip(styles[k], styles_count[k])) for k in styles_count}"
   ]
  },
  {
   "cell_type": "code",
   "execution_count": 7,
   "metadata": {},
   "outputs": [],
   "source": [
    "k = list(styles_count.keys())\n",
    "\n",
    "pix = {}\n",
    "generate_bayes_dist(styles_merged, k, 0, \"\", 0, pix)"
   ]
  },
  {
   "cell_type": "markdown",
   "metadata": {},
   "source": [
    "### Click to get random style!"
   ]
  },
  {
   "cell_type": "code",
   "execution_count": 8,
   "metadata": {},
   "outputs": [
    {
     "data": {
      "text/plain": [
       "('короткая прямые, серебристо серый, нет очков, комбинезон, синий',\n",
       " 0.0007745453418843139)"
      ]
     },
     "execution_count": 8,
     "metadata": {},
     "output_type": "execute_result"
    }
   ],
   "source": [
    "get_random_style(pix)"
   ]
  },
  {
   "cell_type": "markdown",
   "metadata": {},
   "source": [
    "## Working with images"
   ]
  },
  {
   "cell_type": "code",
   "execution_count": 48,
   "metadata": {},
   "outputs": [],
   "source": [
    "SOURCE_IMGS_DIR = \"avatars\"\n",
    "GEN_IMGS_DIR = \"avatars_gen\"\n",
    "IMG_H = 560\n",
    "IMG_W = 528\n",
    "EXAMPLES = 5"
   ]
  },
  {
   "cell_type": "code",
   "execution_count": null,
   "metadata": {},
   "outputs": [],
   "source": [
    "imgs = [os.path.join(SOURCE_IMGS_DIR, el) for el in os.listdir(SOURCE_IMGS_DIR)]"
   ]
  },
  {
   "cell_type": "markdown",
   "metadata": {},
   "source": [
    "### Loading images and getting pixels info"
   ]
  },
  {
   "cell_type": "code",
   "execution_count": 44,
   "metadata": {},
   "outputs": [],
   "source": [
    "imgs = [os.path.join(SOURCE_IMGS_DIR, el) for el in os.listdir(SOURCE_IMGS_DIR)]\n",
    "\n",
    "pix = defaultdict(dict)\n",
    "for img in imgs:\n",
    "    pimg = Image.open(img)\n",
    "    for x in range(pimg.width):\n",
    "        for y in range(pimg.height):\n",
    "            r, g, b, _ = pimg.getpixel((x, y))\n",
    "\n",
    "            if not pix[f\"{x}_{y}\"].get(\"r\"):\n",
    "                pix[f\"{x}_{y}\"][\"r\"] = []\n",
    "            if not pix[f\"{x}_{y}\"].get(\"g\"):\n",
    "                pix[f\"{x}_{y}\"][\"g\"] = []\n",
    "            if not pix[f\"{x}_{y}\"].get(\"b\"):\n",
    "                pix[f\"{x}_{y}\"][\"b\"] = []\n",
    "\n",
    "            pix[f\"{x}_{y}\"][\"r\"].append(r)\n",
    "            pix[f\"{x}_{y}\"][\"g\"].append(g)\n",
    "            pix[f\"{x}_{y}\"][\"b\"].append(b)\n",
    "\n",
    "for p in pix:\n",
    "    pix[p][\"r\"] = (pix[p][\"r\"], get_mle_probs(pix[p][\"r\"]))\n",
    "    pix[p][\"g\"] = (pix[p][\"g\"], get_mle_probs(pix[p][\"g\"]))\n",
    "    pix[p][\"b\"] = (pix[p][\"b\"], get_mle_probs(pix[p][\"b\"]))"
   ]
  },
  {
   "cell_type": "code",
   "execution_count": 45,
   "metadata": {},
   "outputs": [],
   "source": [
    "def get_random_pix(val_probs: list):\n",
    "    return np.random.choice(val_probs[0], p=val_probs[1])"
   ]
  },
  {
   "cell_type": "markdown",
   "metadata": {},
   "source": [
    "### Generating new avatars!"
   ]
  },
  {
   "cell_type": "code",
   "execution_count": 49,
   "metadata": {},
   "outputs": [],
   "source": [
    "os.makedirs(GEN_IMGS_DIR, exist_ok=True)\n",
    "\n",
    "for i in range(EXAMPLES):\n",
    "    res = Image.new(\"RGB\", (IMG_W, IMG_H))\n",
    "    for x in range(pimg.width):\n",
    "        for y in range(pimg.height):\n",
    "            res.putpixel(\n",
    "                (x, y),\n",
    "                (\n",
    "                    get_random_pix(pix[f\"{x}_{y}\"][\"r\"]),\n",
    "                    get_random_pix(pix[f\"{x}_{y}\"][\"g\"]),\n",
    "                    get_random_pix(pix[f\"{x}_{y}\"][\"b\"]),\n",
    "                ),\n",
    "            )\n",
    "\n",
    "    res.save(os.path.join(GEN_IMGS_DIR, f\"img_{i}.png\"), format=\"png\")"
   ]
  }
 ],
 "metadata": {
  "kernelspec": {
   "display_name": "venv",
   "language": "python",
   "name": "python3"
  },
  "language_info": {
   "codemirror_mode": {
    "name": "ipython",
    "version": 3
   },
   "file_extension": ".py",
   "mimetype": "text/x-python",
   "name": "python",
   "nbconvert_exporter": "python",
   "pygments_lexer": "ipython3",
   "version": "3.11.7"
  }
 },
 "nbformat": 4,
 "nbformat_minor": 2
}
